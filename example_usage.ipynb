{
 "cells": [
  {
   "cell_type": "code",
   "execution_count": null,
   "metadata": {},
   "outputs": [],
   "source": [
    "from utils.datasets import WSIDataset\n",
    "from utils.wsi_infer import predict_over_wsi, wsi_heatmap\n",
    "from torch.utils.data import DataLoader\n",
    "import os"
   ]
  },
  {
   "cell_type": "code",
   "execution_count": 4,
   "metadata": {},
   "outputs": [],
   "source": [
    "# load wsi data\n",
    "wsi_dir = 'data/exmaple_wsis'\n",
    "wsi_dataset = WSIDataset(img_dir= wsi_dir)\n",
    "wsi_dataloader = DataLoader(wsi_dataset, batch_size = 1, shuffle = False)"
   ]
  },
  {
   "cell_type": "code",
   "execution_count": 9,
   "metadata": {},
   "outputs": [
    {
     "name": "stderr",
     "output_type": "stream",
     "text": [
      "\u001b[32m2024-02-26 14:51:00.024\u001b[0m | \u001b[1mINFO    \u001b[0m | \u001b[36mrl_benchmarks.models.feature_extractors.ibot_vit\u001b[0m:\u001b[36m__init__\u001b[0m:\u001b[36m78\u001b[0m - \u001b[1mPretrained weights found at data/ibot_vit_base_pancan.pth and loaded with msg: _IncompatibleKeys(missing_keys=[], unexpected_keys=['head.mlp.0.weight', 'head.mlp.0.bias', 'head.mlp.2.weight', 'head.mlp.2.bias', 'head.mlp.4.weight', 'head.mlp.4.bias', 'head.last_layer.weight_g', 'head.last_layer.weight_v', 'head.last_layer2.weight_g', 'head.last_layer2.weight_v'])\u001b[0m\n"
     ]
    }
   ],
   "source": [
    "# load feature extractors and scores models\n",
    "from rl_benchmarks.models import iBOTViT\n",
    "import pickle\n",
    "\n",
    "weights_path = 'data/ibot_vit_base_pancan.pth'\n",
    "ibot_base_pancancer = iBOTViT(architecture=\"vit_base_pancan\", encoder=\"teacher\", weights_path=weights_path)\n",
    "ibot_base_pancancer.eval()\n",
    "transform=ibot_base_pancancer.transform\n",
    "\n",
    "# unpickle skorch NN classifier Chowder model\n",
    "scores_model_file = 'data/example_model.pkl'\n",
    "with open(scores_model_file, 'rb') as model_file:\n",
    "    example_model = pickle.load(model_file)\n",
    "\n",
    "# extract extreme layer scoring portion of Chowder model\n",
    "# for torch models, do not include \"['model'].module_\"\n",
    "scores_model = example_model['model'].module_.extreme_layer"
   ]
  },
  {
   "cell_type": "code",
   "execution_count": null,
   "metadata": {},
   "outputs": [],
   "source": [
    "# make \n",
    "outdir = 'data/example_out'\n",
    "# patch size and magnification needed are specific\n",
    "#  to feature extraction method\n",
    "wsi_patch_size = (224,224)\n",
    "req_mag = 20 \n",
    "\n",
    "# if out_dir does not exist, create\n",
    "if os.path.exists(outdir) == False:\n",
    "    os.makedirs(outdir)\n",
    "\n",
    "# predict using above feature extractor on example wsis\n",
    "predict_over_wsi(outdir = outdir, \n",
    "                    wsi_patch_size = wsi_patch_size,\n",
    "                    req_mag = 20,\n",
    "                    feature_extractor = ibot_base_pancancer,\n",
    "                    feature_extractor_transforms = transform,\n",
    "                    feature_extractor_device:'cpu',\n",
    "                    scorer_model = scores_model,\n",
    "                    scorer_model_device = 'cpu',\n",
    "                    wsi_dataloader = wsi_dataloader, \n",
    "                    postive_tissue_threshold = 1.0,\n",
    "                    num_patches = 'all',\n",
    "                    min_patch_number: int = 10,\n",
    "                    feature_batch_size: int = 100,\n",
    "                    cache_dir: str = 'cache'):"
   ]
  },
  {
   "cell_type": "code",
   "execution_count": null,
   "metadata": {},
   "outputs": [],
   "source": [
    "# make and save heatmaps from inference result file\n",
    "def wsi_heatmap(wsi_dataloader,\n",
    "                scores_df,\n",
    "                col_to_show:str,\n",
    "                file_col: str,\n",
    "                outdir:str, \n",
    "                coord_col_1: str = 'start_coord_0',\n",
    "                coord_col_2: str = 'start_coord_1',\n",
    "                patch_size_col:str = 'patch_size',\n",
    "                display_mag:int = 2,\n",
    "                cmap:str = 'viridis'):"
   ]
  }
 ],
 "metadata": {
  "kernelspec": {
   "display_name": "rl_benchmarks",
   "language": "python",
   "name": "python3"
  },
  "language_info": {
   "codemirror_mode": {
    "name": "ipython",
    "version": 3
   },
   "file_extension": ".py",
   "mimetype": "text/x-python",
   "name": "python",
   "nbconvert_exporter": "python",
   "pygments_lexer": "ipython3",
   "version": "3.8.18"
  }
 },
 "nbformat": 4,
 "nbformat_minor": 2
}
